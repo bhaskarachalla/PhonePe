{
 "cells": [
  {
   "cell_type": "code",
   "execution_count": 8,
   "metadata": {},
   "outputs": [],
   "source": [
    "import pandas as pd\n",
    "import psycopg2\n",
    "import plotly.express as px\n",
    "import json\n",
    "import requests\n"
   ]
  },
  {
   "cell_type": "code",
   "execution_count": 3,
   "metadata": {},
   "outputs": [],
   "source": [
    "# DF Creation of tables in sql\n",
    "mydb = psycopg2.connect(host = 'localhost',\n",
    "                        user = 'postgres',\n",
    "                        port = '5432',\n",
    "                        database = \"Phonepe_Data\",\n",
    "                        password = 'Space-time123')\n",
    "\n",
    "cursor = mydb.cursor()\n",
    "\n",
    "#aggre_transaction DF\n",
    "cursor.execute('SELECT * FROM aggregated_transaction')\n",
    "mydb.commit()\n",
    "Table1 = cursor.fetchall()\n",
    "\n",
    "Aggre_transaction = pd.DataFrame(Table1, columns=('States','Years','Quartile','Transaction_type','Transaction_count','Transaction_amount'))\n",
    "\n",
    "\n",
    "cursor.execute('SELECT * FROM aggregated_user')\n",
    "mydb.commit()\n",
    "Table2 = cursor.fetchall()\n",
    "\n",
    "Aggre_user = pd.DataFrame(Table2, columns=('States','Years','Quartile','Brands','Transaction_count','Percentage'))\n",
    "\n",
    "cursor.execute('SELECT * FROM map_transaction')\n",
    "mydb.commit()\n",
    "Table3 = cursor.fetchall()\n",
    "\n",
    "Map_transaction = pd.DataFrame(Table3, columns=('States','Years','Quartile','Districts','Transaction_count','Transaction_amount'))\n",
    "\n",
    "\n",
    "cursor.execute('SELECT * FROM map_users')\n",
    "mydb.commit()\n",
    "Table4 = cursor.fetchall()\n",
    "\n",
    "Map_user = pd.DataFrame(Table4, columns=('States','Years','Quartile','Districts','RegisteredUsers','AppOpens'))\n",
    "\n",
    "\n",
    "cursor.execute('SELECT * FROM top_transaction')\n",
    "mydb.commit()\n",
    "Table5 = cursor.fetchall()\n",
    "\n",
    "Top_transaction = pd.DataFrame(Table5, columns=('States','Years','Quartile','Pincodes','Transaction_count','Transaction_amount'))\n",
    "\n",
    "\n",
    "cursor.execute('SELECT * FROM top_user')\n",
    "mydb.commit()\n",
    "Table6 = cursor.fetchall()\n",
    "\n",
    "Top_user = pd.DataFrame(Table6, columns=('States','Years','Quartile','Pincodes','RegisteredUsers'))\n",
    "\n",
    "\n",
    "\n",
    "\n"
   ]
  },
  {
   "cell_type": "code",
   "execution_count": 224,
   "metadata": {},
   "outputs": [],
   "source": [
    "def top_chart_transaction_amount(table_name):\n",
    "\n",
    "    mydb = psycopg2.connect(host = 'localhost',\n",
    "                            user = 'postgres',\n",
    "                            port = '5432',\n",
    "                            database = \"Phonepe_Data\",\n",
    "                            password = 'Space-time123')\n",
    "\n",
    "    cursor = mydb.cursor()\n",
    "\n",
    "    query_1 = f'''Select states, SUM(transaction_amount) as transaction_amount\n",
    "                From {table_name}\n",
    "                Group by States\n",
    "                Order by transaction_amount DESC\n",
    "                Limit 10;'''\n",
    "    cursor.execute(query_1)   \n",
    "    table_1 = cursor.fetchall()\n",
    "    mydb.commit()\n",
    "\n",
    "    df_1 = pd.DataFrame(table_1, columns=('states','transaction_amount'))          \n",
    "    fig_amount = px.bar(df_1,x='states', y = 'transaction_amount', title = 'Transaction Amount',hover_name='states',\n",
    "                        color_discrete_sequence=px.colors.sequential.Aggrnyl ,height=650, width=600)\n",
    "\n",
    "    fig_amount.show()\n",
    "\n",
    "    query_2 = f'''Select states, SUM(transaction_amount) as transaction_amount\n",
    "                From {table_name}\n",
    "                Group by States\n",
    "                Order by transaction_amount\n",
    "                Limit 10;'''\n",
    "    cursor.execute(query_2)   \n",
    "    table_2 = cursor.fetchall()\n",
    "    mydb.commit()\n",
    "\n",
    "    df_2 = pd.DataFrame(table_2, columns=('states','transaction_amount'))          \n",
    "    fig_amount_2= px.bar(df_1,x='states', y = 'transaction_amount', title = 'Transaction Amount',hover_name='states',\n",
    "                        color_discrete_sequence=px.colors.sequential.Aggrnyl,height=650, width=600)\n",
    "\n",
    "    fig_amount_2.show()            \n",
    "\n",
    "    query_3 = f'''Select states, AVG(transaction_amount) as transaction_amount\n",
    "                From {table_name}\n",
    "                Group by States\n",
    "                Order by transaction_amount;'''\n",
    "    cursor.execute(query_3)   \n",
    "    table_3 = cursor.fetchall()\n",
    "    mydb.commit()\n",
    "\n",
    "    df_3 = pd.DataFrame(table_3, columns=('states','transaction_amount'))          \n",
    "    fig_amount_3= px.bar(df_1,y='states', x = 'transaction_amount', title = 'Transaction Amount',hover_name='states', orientation='h',\n",
    "                        color_discrete_sequence=px.colors.sequential.Bluered_r,height=650, width=600)\n",
    "\n",
    "    fig_amount_3.show() \n"
   ]
  },
  {
   "cell_type": "code",
   "execution_count": 231,
   "metadata": {},
   "outputs": [],
   "source": [
    "def top_chart_transaction_count(table_name):\n",
    "\n",
    "    mydb = psycopg2.connect(host = 'localhost',\n",
    "                            user = 'postgres',\n",
    "                            port = '5432',\n",
    "                            database = \"Phonepe_Data\",\n",
    "                            password = 'Space-time123')\n",
    "\n",
    "    cursor = mydb.cursor()\n",
    "\n",
    "    query_1 = f'''Select states, SUM(transaction_count) as transaction_count\n",
    "                From {table_name}\n",
    "                Group by States\n",
    "                Order by transaction_count DESC\n",
    "                Limit 10;'''\n",
    "    cursor.execute(query_1)   \n",
    "    table_1 = cursor.fetchall()\n",
    "    mydb.commit()\n",
    "\n",
    "    df_1 = pd.DataFrame(table_1, columns=('states','transaction_count'))          \n",
    "    fig_amount = px.bar(df_1,x='states', y = 'transaction_count', title = 'Transaction Count',hover_name='states',\n",
    "                        color_discrete_sequence=px.colors.sequential.Aggrnyl ,height=650, width=600)\n",
    "\n",
    "    fig_amount.show()\n",
    "\n",
    "    query_2 = f'''Select states, SUM(transaction_count) as transaction_count\n",
    "                From {table_name}\n",
    "                Group by States\n",
    "                Order by transaction_count\n",
    "                Limit 10;'''\n",
    "    cursor.execute(query_2)   \n",
    "    table_2 = cursor.fetchall()\n",
    "    mydb.commit()\n",
    "\n",
    "    df_2 = pd.DataFrame(table_2, columns=('states','transaction_count'))          \n",
    "    fig_amount_2= px.bar(df_1,x='states', y = 'transaction_count', title = 'Transaction Count',hover_name='states',\n",
    "                        color_discrete_sequence=px.colors.sequential.Aggrnyl,height=650, width=600)\n",
    "\n",
    "    fig_amount_2.show()            \n",
    "\n",
    "    query_3 = f'''Select states, AVG(transaction_count) as transaction_count\n",
    "                From {table_name}\n",
    "                Group by States\n",
    "                Order by transaction_count;'''\n",
    "    cursor.execute(query_3)   \n",
    "    table_3 = cursor.fetchall()\n",
    "    mydb.commit()\n",
    "\n",
    "    df_3 = pd.DataFrame(table_3, columns=('states','transaction_count'))          \n",
    "    fig_amount_3= px.bar(df_1,y='states', x = 'transaction_count', title = 'Transaction Count',hover_name='states', orientation='h',\n",
    "                        color_discrete_sequence=px.colors.sequential.Bluered_r,height=650, width=600)\n",
    "\n",
    "    fig_amount_3.show()"
   ]
  },
  {
   "cell_type": "code",
   "execution_count": 242,
   "metadata": {},
   "outputs": [],
   "source": [
    "def top_chart_map_user(table_name,state):\n",
    "\n",
    "    mydb = psycopg2.connect(host = 'localhost',\n",
    "                            user = 'postgres',\n",
    "                            port = '5432',\n",
    "                            database = \"Phonepe_Data\",\n",
    "                            password = 'Space-time123')\n",
    "\n",
    "    cursor = mydb.cursor()\n",
    "\n",
    "    query_1 = f'''select districts,sum(registeredusers) as registeredusers\n",
    "                  from {table_name}\n",
    "                  where states = '{state}'\n",
    "                  group by districts\n",
    "                  order by registeredusers desc\n",
    "                  limit 10;'''\n",
    "    cursor.execute(query_1)   \n",
    "    table_1 = cursor.fetchall()\n",
    "    mydb.commit()\n",
    "\n",
    "    df_1 = pd.DataFrame(table_1, columns=('districts','registeredusers'))          \n",
    "    fig_amount = px.bar(df_1,x='districts', y = 'registeredusers', title = 'Top 10 of Registered User',hover_name='districts',\n",
    "                        color_discrete_sequence=px.colors.sequential.Aggrnyl ,height=650, width=600)\n",
    "\n",
    "    fig_amount.show()\n",
    "\n",
    "    query_2 = f'''select districts,sum(registeredusers) as registeredusers\n",
    "                  from {table_name}\n",
    "                  where states = '{state}'\n",
    "                  group by districts\n",
    "                  order by registeredusers asc\n",
    "                  limit 10;'''\n",
    "    cursor.execute(query_2)   \n",
    "    table_2 = cursor.fetchall()\n",
    "    mydb.commit()\n",
    "\n",
    "    df_2 = pd.DataFrame(table_2, columns=('districts','registeredusers'))          \n",
    "    fig_amount_2= px.bar(df_1,x='districts', y = 'registeredusers', title = 'Last 10 Registered User',hover_name='districts',\n",
    "                        color_discrete_sequence=px.colors.sequential.Aggrnyl,height=650, width=600)\n",
    "\n",
    "    fig_amount_2.show()            \n",
    "\n",
    "    query_3 = f'''select districts,avg(registeredusers) as registeredusers\n",
    "                  from {table_name}\n",
    "                  where states = '{state}'\n",
    "                  group by districts\n",
    "                  order by registeredusers;'''\n",
    "    cursor.execute(query_3)   \n",
    "    table_3 = cursor.fetchall()\n",
    "    mydb.commit()\n",
    "\n",
    "    df_3 = pd.DataFrame(table_3, columns=('districts','registeredusers'))          \n",
    "    fig_amount_3= px.bar(df_1,y='districts', x = 'registeredusers', title = 'Average Registered User',hover_name='districts', orientation='h',\n",
    "                        color_discrete_sequence=px.colors.sequential.Bluered_r,height=650, width=600)\n",
    "\n",
    "    fig_amount_3.show() \n"
   ]
  },
  {
   "cell_type": "code",
   "execution_count": 244,
   "metadata": {},
   "outputs": [],
   "source": [
    "def top_chart_map_user_appOpens(table_name,state):\n",
    "\n",
    "    mydb = psycopg2.connect(host = 'localhost',\n",
    "                            user = 'postgres',\n",
    "                            port = '5432',\n",
    "                            database = \"Phonepe_Data\",\n",
    "                            password = 'Space-time123')\n",
    "\n",
    "    cursor = mydb.cursor()\n",
    "\n",
    "    query_1 = f'''select districts,sum(appopens) as appopens\n",
    "                  from {table_name}\n",
    "                  where states = '{state}'\n",
    "                  group by districts\n",
    "                  order by appopens desc\n",
    "                  limit 10;'''\n",
    "    cursor.execute(query_1)   \n",
    "    table_1 = cursor.fetchall()\n",
    "    mydb.commit()\n",
    "\n",
    "    df_1 = pd.DataFrame(table_1, columns=('districts','appopens'))          \n",
    "    fig_amount = px.bar(df_1,x='districts', y = 'appopens', title = 'Top 10 of App Opens',hover_name='districts',\n",
    "                        color_discrete_sequence=px.colors.sequential.Aggrnyl ,height=650, width=600)\n",
    "\n",
    "    fig_amount.show()\n",
    "\n",
    "    query_2 = f'''select districts,sum(appopens) as appopens\n",
    "                  from {table_name}\n",
    "                  where states = '{state}'\n",
    "                  group by districts\n",
    "                  order by appopens asc\n",
    "                  limit 10;'''\n",
    "    cursor.execute(query_2)   \n",
    "    table_2 = cursor.fetchall()\n",
    "    mydb.commit()\n",
    "\n",
    "    df_2 = pd.DataFrame(table_2, columns=('districts','appopens'))          \n",
    "    fig_amount_2= px.bar(df_1,x='districts', y = 'appopens', title = 'Last 10 App Opens',hover_name='districts',\n",
    "                        color_discrete_sequence=px.colors.sequential.Aggrnyl,height=650, width=600)\n",
    "\n",
    "    fig_amount_2.show()            \n",
    "\n",
    "    query_3 = f'''select districts,avg(appopens) as appopens\n",
    "                  from {table_name}\n",
    "                  where states = '{state}'\n",
    "                  group by districts\n",
    "                  order by appopens;'''\n",
    "    cursor.execute(query_3)   \n",
    "    table_3 = cursor.fetchall()\n",
    "    mydb.commit()\n",
    "\n",
    "    df_3 = pd.DataFrame(table_3, columns=('districts','appopens'))          \n",
    "    fig_amount_3= px.bar(df_1,y='districts', x = 'appopens', title = 'Average App Opens',hover_name='districts', orientation='h',\n",
    "                        color_discrete_sequence=px.colors.sequential.Bluered_r,height=650, width=600)\n",
    "\n",
    "    fig_amount_3.show() \n"
   ]
  },
  {
   "cell_type": "code",
   "execution_count": 251,
   "metadata": {},
   "outputs": [],
   "source": [
    "def top_chart_top_user(table_name):\n",
    "\n",
    "    mydb = psycopg2.connect(host = 'localhost',\n",
    "                            user = 'postgres',\n",
    "                            port = '5432',\n",
    "                            database = \"Phonepe_Data\",\n",
    "                            password = 'Space-time123')\n",
    "\n",
    "    cursor = mydb.cursor()\n",
    "\n",
    "    query_1 = f'''select states,sum(registeredusers) as registeredusers\n",
    "                  from {table_name}\n",
    "                  group by states\n",
    "                  order by registeredusers desc\n",
    "                  limit 10;'''\n",
    "    cursor.execute(query_1)   \n",
    "    table_1 = cursor.fetchall()\n",
    "    mydb.commit()\n",
    "\n",
    "    df_1 = pd.DataFrame(table_1, columns=('states','registeredusers'))          \n",
    "    fig_amount = px.bar(df_1,x='states', y = 'registeredusers', title = 'Top 10 of Registered Users in Top User',hover_name='states',\n",
    "                        color_discrete_sequence=px.colors.sequential.Aggrnyl ,height=650, width=600)\n",
    "\n",
    "    fig_amount.show() \n",
    "\n",
    "    query_2 = f'''select states,sum(registeredusers) as registeredusers\n",
    "                    from {table_name}\n",
    "                    group by states\n",
    "                    order by registeredusers\n",
    "                    limit 10;'''\n",
    "    cursor.execute(query_2)   \n",
    "    table_2 = cursor.fetchall()\n",
    "    mydb.commit()\n",
    "\n",
    "    df_2 = pd.DataFrame(table_2, columns=('states','registeredusers'))          \n",
    "    fig_amount_2= px.bar(df_1,x='states', y = 'registeredusers', title = 'Last 10 Registered users in top user',hover_name='states',\n",
    "                        color_discrete_sequence=px.colors.sequential.Aggrnyl,height=650, width=600)\n",
    "\n",
    "    fig_amount_2.show() \n",
    "\n",
    "    query_3 = f'''select states,avg(registeredusers) as registeredusers\n",
    "                    from {table_name}\n",
    "                    group by states\n",
    "                    order by registeredusers;'''\n",
    "    cursor.execute(query_3)   \n",
    "    table_3 = cursor.fetchall()\n",
    "    mydb.commit()\n",
    "\n",
    "    df_3 = pd.DataFrame(table_3, columns=('states','registeredusers'))          \n",
    "    fig_amount_3= px.bar(df_1,y='states', x = 'registeredusers', title = 'Average Registered Users in Top User'\n",
    "                         ,hover_name='states', orientation='h',\n",
    "                        color_discrete_sequence=px.colors.sequential.Bluered_r,height=650, width=600)\n",
    "\n",
    "    fig_amount_3.show() \n"
   ]
  },
  {
   "cell_type": "code",
   "execution_count": 17,
   "metadata": {},
   "outputs": [],
   "source": [
    "def total_count_Y(table_name):\n",
    "    mydb = psycopg2.connect(host = 'localhost',\n",
    "                            user = 'postgres',\n",
    "                            port = '5432',\n",
    "                            database = \"Phonepe_Data\",\n",
    "                            password = 'Space-time123')\n",
    "\n",
    "    cursor = mydb.cursor()\n",
    "    \n",
    "    query_1 = f'''Select years, sum(transaction_count) as total_count \n",
    "                        from {table_name} \n",
    "                        group by years \n",
    "                        order by years asc'''\n",
    "    cursor.execute(query_1)   \n",
    "    table_1 = cursor.fetchall()\n",
    "    mydb.commit()\n",
    "\n",
    "    df_1 = pd.DataFrame(table_1, columns=('years','total_count'))          \n",
    "    Pie_Chart = px.pie(data_frame = df_1, names = 'years', values = 'total_count', width = 600, title = 'way of transactions', hole = 0.50 )\n",
    "\n",
    "\n",
    "    Pie_Chart.show()\n",
    "    \n",
    "    \n",
    "    "
   ]
  },
  {
   "cell_type": "code",
   "execution_count": null,
   "metadata": {},
   "outputs": [],
   "source": [
    "total_count_Y('aggregated_user')"
   ]
  },
  {
   "cell_type": "code",
   "execution_count": null,
   "metadata": {},
   "outputs": [],
   "source": [
    "top_chart_transaction_amount('aggregated_transaction')"
   ]
  },
  {
   "cell_type": "code",
   "execution_count": null,
   "metadata": {},
   "outputs": [],
   "source": [
    "top_chart_transaction_count('aggregated_transaction')"
   ]
  },
  {
   "cell_type": "code",
   "execution_count": null,
   "metadata": {},
   "outputs": [],
   "source": [
    "top_chart_map_user('map_users','Andhra Pradesh')"
   ]
  },
  {
   "cell_type": "code",
   "execution_count": null,
   "metadata": {},
   "outputs": [],
   "source": [
    "top_chart_map_user_appOpens('map_users','Andhra Pradesh')"
   ]
  },
  {
   "cell_type": "code",
   "execution_count": null,
   "metadata": {},
   "outputs": [],
   "source": [
    "top_chart_top_user('top_user')"
   ]
  },
  {
   "cell_type": "code",
   "execution_count": 2,
   "metadata": {},
   "outputs": [],
   "source": [
    "def Transaction_Amount_Count_Yearwise(df, year):\n",
    "    Tramcoye = df[df['Years'] == year]\n",
    "    Tramcoye.reset_index(drop = True, inplace = True)\n",
    "\n",
    "\n",
    "    Tramcoye_Group = Tramcoye.groupby('States')[['Transaction_count','Transaction_amount']].sum()\n",
    "    Tramcoye_Group.reset_index(inplace= True)\n",
    "\n",
    "    Amount_Plot = px.bar(Tramcoye_Group, x = 'States', y = 'Transaction_amount',title = f'{year} Transaction Amount' ,height = 630, width=600)\n",
    "    Amount_Plot.show()\n",
    "    \n",
    "    Count_Plot = px.bar(Tramcoye_Group, x = 'States', y = 'Transaction_count',title = f'{year}Transaction Count',height = 630, width=600)\n",
    "    \n",
    "    \n",
    "    Count_Plot.show()\n",
    "    \n",
    "    url = 'https://gist.githubusercontent.com/jbrobst/56c13bbbf9d97d187fea01ca62ea5112/raw/e388c4cae20aa53cb5090210a42ebb9b765c0a36/india_states.geojson'\n",
    "    response = requests.get(url)\n",
    "    data1 = json.loads(response.content)\n",
    "\n",
    "    states_name = []\n",
    "    for feature in data1['features']:\n",
    "        states_name.append((feature['properties']['ST_NM']))\n",
    "        \n",
    "\n",
    "    states_name.sort()\n",
    "\n",
    "    India_map1 = px.choropleth(Tramcoye_Group, geojson = data1, \n",
    "                                locations = 'States', \n",
    "                                featureidkey = 'properties.ST_NM',\n",
    "                                color = 'Transaction_amount', \n",
    "                                color_continuous_scale = 'Rainbow',\n",
    "                                range_color = (Tramcoye_Group['Transaction_amount'].min(),\n",
    "                                                Tramcoye_Group['Transaction_amount'].max()), \n",
    "                                hover_name = 'States', \n",
    "                                title = f'{year}  Transaction amount', fitbounds = 'locations',height = 600, width=600\n",
    "                                ) \n",
    "    India_map1.update_geos(visible = False)\n",
    "    India_map1.show()\n",
    "    \n",
    "    \n",
    "    India_map2 = px.choropleth(Tramcoye_Group, geojson = data1, \n",
    "                                locations = 'States', \n",
    "                                featureidkey = 'properties.ST_NM',\n",
    "                                color = 'Transaction_count', \n",
    "                                color_continuous_scale = 'Rainbow',\n",
    "                                range_color = (Tramcoye_Group['Transaction_count'].min(),\n",
    "                                                Tramcoye_Group['Transaction_count'].max()), \n",
    "                                hover_name = 'States', \n",
    "                                title = f'{year}  Transaction count', fitbounds = 'locations',height = 600, width=600\n",
    "                                ) \n",
    "    India_map2.update_geos(visible = False)\n",
    "    India_map2.show()\n",
    "    \n",
    "    return Tramcoye\n"
   ]
  },
  {
   "cell_type": "code",
   "execution_count": 3,
   "metadata": {},
   "outputs": [],
   "source": [
    "def Transaction_Amount_Count_Quartilewise(df, quartile):\n",
    "    Tramcoye = df[df['Quartile'] == quartile]\n",
    "    Tramcoye.reset_index(drop = True, inplace = True)\n",
    "\n",
    "\n",
    "    Tramcoye_Group = Tramcoye.groupby('States')[['Transaction_count','Transaction_amount']].sum()\n",
    "    Tramcoye_Group.reset_index(inplace= True)\n",
    "\n",
    "    Amount_Plot = px.bar(Tramcoye_Group, x = 'States', y = 'Transaction_amount',title = f'  {Tramcoye[\"Years\"].min()}  Year  {quartile} Quarter Transaction Amount' ,height = 630, width=600)\n",
    "    Amount_Plot.show()\n",
    "    \n",
    "    Count_Plot = px.bar(Tramcoye_Group, x = 'States', y = 'Transaction_count',title = f'  {Tramcoye[\"Years\"].min()}  Year  {quartile} Quarter Transaction Count' ,height = 630, width=600)\n",
    "    \n",
    "    \n",
    "    Count_Plot.show()\n",
    "    \n",
    "    url = 'https://gist.githubusercontent.com/jbrobst/56c13bbbf9d97d187fea01ca62ea5112/raw/e388c4cae20aa53cb5090210a42ebb9b765c0a36/india_states.geojson'\n",
    "    response = requests.get(url)\n",
    "    data1 = json.loads(response.content)\n",
    "\n",
    "    states_name = []\n",
    "    for feature in data1['features']:\n",
    "        states_name.append((feature['properties']['ST_NM']))\n",
    "        \n",
    "\n",
    "    states_name.sort()\n",
    "\n",
    "    India_map1 = px.choropleth(Tramcoye_Group, geojson = data1, \n",
    "                                locations = 'States', \n",
    "                                featureidkey = 'properties.ST_NM',\n",
    "                                color = 'Transaction_amount', \n",
    "                                color_continuous_scale = 'Rainbow',\n",
    "                                range_color = (Tramcoye_Group['Transaction_amount'].min(),\n",
    "                                                Tramcoye_Group['Transaction_amount'].max()), \n",
    "                                hover_name = 'States', \n",
    "                                title = f'{Tramcoye[\"Years\"].min()}  Year {quartile} Quartrline Transaction amount', fitbounds = 'locations',height = 600, width=600\n",
    "                                ) \n",
    "    India_map1.update_geos(visible = False)\n",
    "    India_map1.show()\n",
    "    \n",
    "    \n",
    "    India_map2 = px.choropleth(Tramcoye_Group, geojson = data1, \n",
    "                                locations = 'States', \n",
    "                                featureidkey = 'properties.ST_NM',\n",
    "                                color = 'Transaction_count', \n",
    "                                color_continuous_scale = 'Rainbow',\n",
    "                                range_color = (Tramcoye_Group['Transaction_count'].min(),\n",
    "                                                Tramcoye_Group['Transaction_count'].max()), \n",
    "                                hover_name = 'States', \n",
    "                                title = f'  {Tramcoye[\"Years\"].min()}  Year  {quartile} Quarter Transaction Count' , fitbounds = 'locations',height = 600, width=600\n",
    "                                ) \n",
    "    India_map2.update_geos(visible = False)\n",
    "    India_map2.show()\n",
    "    \n",
    "    return Tramcoye\n"
   ]
  },
  {
   "cell_type": "code",
   "execution_count": 6,
   "metadata": {},
   "outputs": [],
   "source": [
    "def Aggre_Tran_Transaction_Type(df, state):\n",
    "\n",
    "    Tramcoye = df[df['States'] == state]\n",
    "    Tramcoye.reset_index(drop = True, inplace = True)\n",
    "\n",
    "    Tramcoye_Group = Tramcoye.groupby('Transaction_type')[['Transaction_count','Transaction_amount']].sum()\n",
    "    Tramcoye_Group.reset_index(inplace= True)\n",
    "\n",
    "    Pie_Chart1 = px.pie(data_frame = Tramcoye_Group, names = 'Transaction_type', values = 'Transaction_amount', width = 600, title = f'{state}  Transaction amount', hole = 0.50 , )\n",
    "\n",
    "    Pie_Chart1.show()\n",
    "\n",
    "    Pie_Chart2 = px.pie(data_frame = Tramcoye_Group, names = 'Transaction_type', values = 'Transaction_count', width = 600, title = f'{state}  Transaction count', hole = 0.50 , )\n",
    "\n",
    "    Pie_Chart2.show()"
   ]
  },
  {
   "cell_type": "code",
   "execution_count": 7,
   "metadata": {},
   "outputs": [],
   "source": [
    "def Aggre_User_plot1(df, year):\n",
    "\n",
    "\n",
    "    AgUY = df[df['Years'] == year]\n",
    "    AgUY.reset_index(drop = True, inplace = True)\n",
    "\n",
    "    AgUY_Group = AgUY.groupby('Brands')[['Transaction_count']].sum()\n",
    "    AgUY_Group.reset_index(inplace = True)\n",
    "\n",
    "    Bar1 = px.bar(AgUY_Group, x = 'Brands', y = 'Transaction_count', title = 'Brands and Transaction Count', width= 900)\n",
    "    Bar1.show()\n",
    "    \n",
    "    return AgUY"
   ]
  },
  {
   "cell_type": "code",
   "execution_count": 8,
   "metadata": {},
   "outputs": [],
   "source": [
    "def Aggre_User_plot2(df, quartile):\n",
    "    AgUYQ = df[df['Quartile'] == quartile]\n",
    "    AgUYQ.reset_index(drop = True, inplace = True)\n",
    "\n",
    "    AgUYQ_Group = AgUYQ.groupby(['Brands'])[['Transaction_count']].sum()\n",
    "    AgUYQ_Group.reset_index(inplace = True)\n",
    "    Bar2 = px.bar(AgUYQ_Group, x = 'Brands', y = 'Transaction_count', title = f'{quartile} Quartile,Brands and Transaction Count Quartile', width= 900)\n",
    "    Bar2.show()\n",
    "    \n",
    "    return AgUYQ"
   ]
  },
  {
   "cell_type": "code",
   "execution_count": 9,
   "metadata": {},
   "outputs": [],
   "source": [
    "def Aggre_User_plot3(df, state):\n",
    "    AgU_Year_Q_S = df[df['States'] == state]\n",
    "    AgU_Year_Q_S.reset_index(drop=True, inplace= True )\n",
    "    Area1 = px.area(AgU_Year_Q_S, x= 'Brands', y= 'Transaction_count', hover_data= 'Percentage',title='Brands, Transaction count, Percentage',width=900, markers=True)\n",
    "    Area1.show()"
   ]
  },
  {
   "cell_type": "code",
   "execution_count": 62,
   "metadata": {},
   "outputs": [],
   "source": [
    "def Map_Trans_District(df, state):\n",
    "    Tacyd = df[df['States'] == state]\n",
    "    Tacyd.reset_index(drop = True, inplace = True)\n",
    "    \n",
    "    Tacyd_Group = Tacyd.groupby('Districts')[['Transaction_count','Transaction_amount']].sum()\n",
    "    Tacyd_Group.reset_index(inplace = True)\n",
    "   \n",
    "    \n",
    "    Bar3 = px.bar(Tacyd_Group, x = 'Transaction_amount', y = 'Districts', orientation= 'h', title = f'{state} Districts and Transaction amount', width= 900)\n",
    "    Bar3.show()\n",
    "    \n",
    "    Bar4 = px.bar(Tacyd_Group, x = 'Transaction_count', y = 'Districts' ,title = f'{state} Districts and Transaction count')\n",
    "    Bar4.show()"
   ]
  },
  {
   "cell_type": "code",
   "execution_count": null,
   "metadata": {},
   "outputs": [],
   "source": [
    "def Map_User_Plot1(df, year):\n",
    "\n",
    "    MUY = df[df['Years'] == year]\n",
    "    MUY.reset_index(drop = True, inplace = True)\n",
    "\n",
    "    MUY_Group = MUY.groupby('States')[['RegisteredUsers', 'AppOpens']].sum()\n",
    "    MUY_Group.reset_index(inplace = True)\n",
    "\n",
    "    Area2  = px.area(MUY_Group, x= 'States', y= ['RegisteredUsers', 'AppOpens'],title=f'{year} MUY Registered Users & App Opens',width=900, markers= True)\n",
    "    Area2.show()\n",
    "\n",
    "    return MUY"
   ]
  },
  {
   "cell_type": "code",
   "execution_count": 154,
   "metadata": {},
   "outputs": [],
   "source": [
    "def Map_User_Plot2(df, quartile):\n",
    "\n",
    "    MUY_Q = df[df['Quartile'] == quartile]\n",
    "    MUY_Q.reset_index(drop = True, inplace = True)\n",
    "\n",
    "    MUY_Q_Group = MUY_Q.groupby('States')[['RegisteredUsers', 'AppOpens']].sum()\n",
    "    MUY_Q_Group.reset_index(inplace = True)\n",
    "\n",
    "    Area2  = px.area(MUY_Q_Group, x= 'States', y= ['RegisteredUsers', 'AppOpens'],\n",
    "                     title=f'{df['Years'].unique()} {quartile} MUY Quartile Registered Users & App Opens',width=900, \n",
    "                     markers= True, color_discrete_sequence = px.colors.sequential.YlGnBu)\n",
    "    Area2.show()\n",
    "    \n",
    "    return MUY_Q\n"
   ]
  },
  {
   "cell_type": "code",
   "execution_count": 145,
   "metadata": {},
   "outputs": [],
   "source": [
    "def Map_User_plot3(df, states):\n",
    "    MUYQS = df[df['States'] == 'states']\n",
    "    MUYQS.reset_index(drop = True, inplace = True)\n",
    "\n",
    "    Bar5 = px.bar(MUYQS, x = 'RegisteredUsers', y = 'Districts',orientation='h', \n",
    "                    title = 'Registered User',\n",
    "                    height=900, width= 900)\n",
    "    Bar5.show()\n",
    "\n",
    "    Bar6 = px.bar(MUYQS, x = 'AppOpens', y = 'Districts',orientation='h', \n",
    "                    title = 'App Opens',\n",
    "                    height=900, width= 900)\n",
    "    Bar6.show()"
   ]
  },
  {
   "cell_type": "code",
   "execution_count": 195,
   "metadata": {},
   "outputs": [],
   "source": [
    "def Top_Transaction_Plot1(df, states):\n",
    "\n",
    "    TTY_Q = df[df['States'] == states]\n",
    "    TTY_Q.reset_index(drop = True, inplace = True)\n",
    "\n",
    "    TTY_Q_Group = TTY_Q.groupby('Pincodes')[['Transaction_count', 'Transaction_amount']].sum()\n",
    "    TTY_Q_Group.reset_index(inplace = True)\n",
    "    BarPlot1  = px.bar(TTY_Q, x= 'Pincodes', y= 'Transaction_amount',color='Pincodes',\n",
    "                        title='Transaction Amount',width=900, \n",
    "                        markers= True, color_discrete_sequence = px.colors.sequential.YlGnBu)\n",
    "    BarPlot1.show()\n",
    "    \n",
    "    Line2  = px.area(TTY_Q, x= 'Pincodes', y= 'Transaction_count',\n",
    "                        title='Transaction Count',width=900, \n",
    "                        markers= True, color_discrete_sequence = px.colors.sequential.Sunsetdark_r)\n",
    "    Line2.show()"
   ]
  },
  {
   "cell_type": "code",
   "execution_count": null,
   "metadata": {},
   "outputs": [],
   "source": [
    "def Top_User_P1(df, years):\n",
    "    TUY = df[df['Years'] == years]\n",
    "    TUY.reset_index(drop = True, inplace = True)\n",
    "\n",
    "    TUY_Group = pd.DataFrame(TUY.groupby(['States', 'Quartile'])['RegisteredUsers'].sum())\n",
    "    TUY_Group.reset_index(inplace = True)\n",
    "\n",
    "    Top_User_Plot1 = px.bar(TUY_Group, x = 'States', y = 'RegisteredUsers', \n",
    "                            color = 'Quartile', width= 900, height = 900,\n",
    "                            color_discrete_sequence=px.colors.sequential.algae_r,\n",
    "                            title = f'{years} Registered Users')\n",
    "\n",
    "    Top_User_Plot1.show()\n",
    "    \n",
    "    return TUY"
   ]
  },
  {
   "cell_type": "code",
   "execution_count": 217,
   "metadata": {},
   "outputs": [],
   "source": [
    "def Top_User_P2(df,states):\n",
    "\n",
    "    TUYS = df[df['States'] == states]\n",
    "    TUYS.reset_index(drop = True, inplace = True)\n",
    "\n",
    "    StackedPlot1 = px.bar(TUYS, x= 'Quartile', y = 'RegisteredUsers', color='RegisteredUsers', \n",
    "                        title = 'Registered Users, Pincodes, Quarter', width=900, height = 600, \n",
    "                        hover_data='Pincodes',color_continuous_scale=px.colors.sequential.Magma)\n",
    "\n",
    "    StackedPlot1.show()"
   ]
  },
  {
   "cell_type": "markdown",
   "metadata": {},
   "source": [
    "### Aggregated_transaction"
   ]
  },
  {
   "cell_type": "code",
   "execution_count": null,
   "metadata": {},
   "outputs": [],
   "source": [
    "Aggre_Tran_Transaction_Type(Tram_y, 'Bihar')"
   ]
  },
  {
   "cell_type": "code",
   "execution_count": null,
   "metadata": {},
   "outputs": [],
   "source": [
    "Tram_y_q = Transaction_Amount_Count_Quartilewise(Tram_y, 3)"
   ]
  },
  {
   "cell_type": "code",
   "execution_count": null,
   "metadata": {},
   "outputs": [],
   "source": [
    "Aggre_Tran_Transaction_Type(Tram_y_q, 'Bihar')"
   ]
  },
  {
   "cell_type": "markdown",
   "metadata": {},
   "source": [
    "### Aggregated User"
   ]
  },
  {
   "cell_type": "code",
   "execution_count": null,
   "metadata": {},
   "outputs": [],
   "source": [
    "AgU_Year = Aggre_User_plot1(Aggre_user, 2020)"
   ]
  },
  {
   "cell_type": "code",
   "execution_count": null,
   "metadata": {},
   "outputs": [],
   "source": [
    "AgU_Year_Q = Aggre_User_plot2(AgU_Year, 3)"
   ]
  },
  {
   "cell_type": "code",
   "execution_count": null,
   "metadata": {},
   "outputs": [],
   "source": [
    "AgU_Year"
   ]
  },
  {
   "cell_type": "code",
   "execution_count": null,
   "metadata": {},
   "outputs": [],
   "source": [
    "Aggre_User_plot3(AgU_Year_Q, 'Bihar')"
   ]
  },
  {
   "cell_type": "code",
   "execution_count": null,
   "metadata": {},
   "outputs": [],
   "source": [
    "Aggre_User_plot3(AgU_Year_Q, 'Bihar')"
   ]
  },
  {
   "cell_type": "code",
   "execution_count": null,
   "metadata": {},
   "outputs": [],
   "source": [
    "AgU_Year_Q"
   ]
  },
  {
   "cell_type": "markdown",
   "metadata": {},
   "source": [
    "### Map Transaction"
   ]
  },
  {
   "cell_type": "code",
   "execution_count": null,
   "metadata": {},
   "outputs": [],
   "source": [
    "Map_TY = Transaction_Amount_Count_Yearwise(Map_transaction, 2023)"
   ]
  },
  {
   "cell_type": "code",
   "execution_count": null,
   "metadata": {},
   "outputs": [],
   "source": [
    "Map_Trans_District(Map_TY, 'West Bengal')"
   ]
  },
  {
   "cell_type": "code",
   "execution_count": null,
   "metadata": {},
   "outputs": [],
   "source": [
    "Map_TY_Q = Transaction_Amount_Count_Quartilewise(Map_TY, 3)"
   ]
  },
  {
   "cell_type": "code",
   "execution_count": null,
   "metadata": {},
   "outputs": [],
   "source": [
    "Map_Trans_District(Map_TY_Q, 'West Bengal')"
   ]
  },
  {
   "cell_type": "markdown",
   "metadata": {},
   "source": [
    "### Map User"
   ]
  },
  {
   "cell_type": "code",
   "execution_count": null,
   "metadata": {},
   "outputs": [],
   "source": [
    "Map_User_y = Map_User_Plot1(Map_user, 2022)"
   ]
  },
  {
   "cell_type": "code",
   "execution_count": null,
   "metadata": {},
   "outputs": [],
   "source": [
    "Map_User_Year_Q = Map_User_Plot2(Map_User_y, 2)"
   ]
  },
  {
   "cell_type": "code",
   "execution_count": null,
   "metadata": {},
   "outputs": [],
   "source": [
    "Map_User_plot3(Map_User_Year_Q,'Andhra Pradesh')"
   ]
  },
  {
   "cell_type": "markdown",
   "metadata": {},
   "source": [
    "### Top Trans"
   ]
  },
  {
   "cell_type": "code",
   "execution_count": null,
   "metadata": {},
   "outputs": [],
   "source": [
    "Top_transaction"
   ]
  },
  {
   "cell_type": "code",
   "execution_count": null,
   "metadata": {},
   "outputs": [],
   "source": [
    "Top_TY = Transaction_Amount_Count_Yearwise(Top_transaction, 2023)"
   ]
  },
  {
   "cell_type": "code",
   "execution_count": null,
   "metadata": {},
   "outputs": [],
   "source": [
    "Top_Transaction_Year_Q =  Transaction_Amount_Count_Quartilewise(Top_TY, 3)"
   ]
  },
  {
   "cell_type": "markdown",
   "metadata": {},
   "source": [
    "### Top User"
   ]
  },
  {
   "cell_type": "code",
   "execution_count": null,
   "metadata": {},
   "outputs": [],
   "source": [
    "Top_User_Year = Top_User_P1(Top_user, 2023)"
   ]
  },
  {
   "cell_type": "code",
   "execution_count": null,
   "metadata": {},
   "outputs": [],
   "source": [
    "Top_User_P2(Top_user, 'Bihar')"
   ]
  }
 ],
 "metadata": {
  "kernelspec": {
   "display_name": "Python 3",
   "language": "python",
   "name": "python3"
  },
  "language_info": {
   "codemirror_mode": {
    "name": "ipython",
    "version": 3
   },
   "file_extension": ".py",
   "mimetype": "text/x-python",
   "name": "python",
   "nbconvert_exporter": "python",
   "pygments_lexer": "ipython3",
   "version": "3.12.2"
  }
 },
 "nbformat": 4,
 "nbformat_minor": 2
}
